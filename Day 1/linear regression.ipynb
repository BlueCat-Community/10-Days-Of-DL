{
 "cells": [
  {
   "cell_type": "code",
   "execution_count": 20,
   "metadata": {},
   "outputs": [
    {
     "data": {
      "image/png": "[encoded data removed]",
      "text/plain": [
       "<Figure size 432x288 with 1 Axes>"
      ]
     },
     "metadata": {
      "needs_background": "light"
     },
     "output_type": "display_data"
    },
    {
     "name": "stdout",
     "output_type": "stream",
     "text": [
      "현재 손실: \n",
      "23.797497\n",
      "에포크  0: W=0.31 b=0.24, 손실=11.40242\n",
      "에포크  1: W=0.86 b=0.60, 손실=7.49828\n",
      "에포크  2: W=1.30 b=0.89, 손실=5.04412\n",
      "에포크  3: W=1.65 b=1.12, 손실=3.50141\n",
      "에포크  4: W=1.92 b=1.30, 손실=2.53164\n",
      "에포크  5: W=2.14 b=1.44, 손실=1.92202\n",
      "에포크  6: W=2.31 b=1.56, 손실=1.53880\n",
      "에포크  7: W=2.45 b=1.65, 손실=1.29790\n",
      "에포크  8: W=2.55 b=1.72, 손실=1.14646\n",
      "에포크  9: W=2.64 b=1.78, 손실=1.05126\n",
      "에포크 10: W=2.71 b=1.82, 손실=0.99141\n",
      "에포크 11: W=2.76 b=1.86, 손실=0.95379\n",
      "에포크 12: W=2.80 b=1.89, 손실=0.93014\n",
      "에포크 13: W=2.84 b=1.91, 손실=0.91527\n",
      "에포크 14: W=2.86 b=1.93, 손실=0.90592\n",
      "에포크 15: W=2.89 b=1.94, 손실=0.90004\n",
      "에포크 16: W=2.90 b=1.95, 손실=0.89635\n",
      "에포크 17: W=2.92 b=1.96, 손실=0.89402\n",
      "에포크 18: W=2.93 b=1.97, 손실=0.89256\n",
      "에포크 19: W=2.93 b=1.98, 손실=0.89165\n",
      "에포크 20: W=2.94 b=1.98, 손실=0.89107\n",
      "에포크 21: W=2.95 b=1.98, 손실=0.89071\n",
      "에포크 22: W=2.95 b=1.99, 손실=0.89048\n",
      "에포크 23: W=2.95 b=1.99, 손실=0.89033\n",
      "에포크 24: W=2.96 b=1.99, 손실=0.89024\n",
      "에포크 25: W=2.96 b=1.99, 손실=0.89019\n",
      "에포크 26: W=2.96 b=1.99, 손실=0.89015\n",
      "에포크 27: W=2.96 b=2.00, 손실=0.89013\n",
      "에포크 28: W=2.96 b=2.00, 손실=0.89012\n",
      "에포크 29: W=2.96 b=2.00, 손실=0.89011\n"
     ]
    },
    {
     "data": {
      "image/png": "[encoded data removed]",
      "text/plain": [
       "<Figure size 432x288 with 1 Axes>"
      ]
     },
     "metadata": {
      "needs_background": "light"
     },
     "output_type": "display_data"
    }
   ],
   "source": [
    "import tensorflow as tf\n",
    "import matplotlib.pyplot as plt\n",
    "\n",
    "class Model(object):\n",
    "  def __init__(self):\n",
    "    # 변수를 (5.0, 0.0)으로 초기화 합니다.\n",
    "    # 실제로는 임의의 값으로 초기화 되어야합니다.\n",
    "    self.W = tf.Variable(tf.random.normal([1]))\n",
    "    self.b = tf.Variable(tf.random.normal([1]))\n",
    "\n",
    "  def __call__(self, x):\n",
    "    return self.W * x + self.b\n",
    "\n",
    "model = Model()\n",
    "\n",
    "#assert model(3.0).numpy() == 15.0\n",
    "\n",
    "def loss(predicted_y, desired_y):\n",
    "  return tf.reduce_mean(tf.square(predicted_y - desired_y))\n",
    "\n",
    "TRUE_W = 3.0\n",
    "TRUE_b = 2.0\n",
    "NUM_EXAMPLES = 1000\n",
    "\n",
    "inputs  = tf.random.normal(shape=[NUM_EXAMPLES])\n",
    "noise   = tf.random.normal(shape=[NUM_EXAMPLES])\n",
    "outputs = inputs * TRUE_W + TRUE_b + noise\n",
    "\n",
    "plt.scatter(inputs, outputs, c='b')\n",
    "plt.scatter(inputs, model(inputs), c='r')\n",
    "plt.show()\n",
    "\n",
    "print('현재 손실: '),\n",
    "print(loss(model(inputs), outputs).numpy())\n",
    "\n",
    "def train(model, inputs, outputs, learning_rate):\n",
    "  with tf.GradientTape() as t:\n",
    "    current_loss = loss(model(inputs), outputs)\n",
    "  dW, db = t.gradient(current_loss, [model.W, model.b])\n",
    "  model.W.assign_sub(learning_rate * dW)\n",
    "  model.b.assign_sub(learning_rate * db)\n",
    "\n",
    "model = Model()\n",
    "\n",
    "# 도식화를 위해 W값과 b값의 변화를 저장합니다.\n",
    "Ws, bs = [], []\n",
    "# 얼마나 돌려줄지 결정\n",
    "epochs = range(30)\n",
    "for epoch in epochs:\n",
    "  Ws.append(model.W.numpy())\n",
    "  bs.append(model.b.numpy())\n",
    "  current_loss = loss(model(inputs), outputs)\n",
    "\n",
    "  train(model, inputs, outputs, learning_rate=0.1)\n",
    "  print('에포크 %2d: W=%1.2f b=%1.2f, 손실=%2.5f' %\n",
    "        (epoch, Ws[-1], bs[-1], current_loss))\n",
    "\n",
    "# 저장된 값들을 도식화합니다.\n",
    "plt.plot(epochs, Ws, 'r',\n",
    "         epochs, bs, 'b')\n",
    "plt.plot([TRUE_W] * len(epochs), 'r--',\n",
    "         [TRUE_b] * len(epochs), 'b--')\n",
    "plt.legend(['W', 'b', 'true W', 'true_b'])\n",
    "plt.show()"
   ]
  },
  {
   "cell_type": "code",
   "execution_count": null,
   "metadata": {},
   "outputs": [],
   "source": []
  },
  {
   "cell_type": "code",
   "execution_count": null,
   "metadata": {},
   "outputs": [],
   "source": []
  }
 ],
 "metadata": {
  "kernelspec": {
   "display_name": "Python 3",
   "language": "python",
   "name": "python3"
  },
  "language_info": {
   "codemirror_mode": {
    "name": "ipython",
    "version": 3
   },
   "file_extension": ".py",
   "mimetype": "text/x-python",
   "name": "python",
   "nbconvert_exporter": "python",
   "pygments_lexer": "ipython3",
   "version": "3.7.3"
  }
 },
 "nbformat": 4,
 "nbformat_minor": 2
}
