{
 "cells": [
  {
   "cell_type": "code",
   "execution_count": 99,
   "metadata": {},
   "outputs": [],
   "source": [
    "import tensorflow as tf\n",
    "import numpy as np"
   ]
  },
  {
   "cell_type": "markdown",
   "metadata": {},
   "source": [
    "## 1. Array and Slicing\n",
    "### Axis: selected by row/column(axis=0:column, axis=1:row)"
   ]
  },
  {
   "cell_type": "code",
   "execution_count": 84,
   "metadata": {},
   "outputs": [
    {
     "name": "stdout",
     "output_type": "stream",
     "text": [
      "[[0 1 2]\n",
      " [3 4 5]\n",
      " [6 7 8]]\n"
     ]
    }
   ],
   "source": [
    "arr=np.array([[0,1,2],[3,4,5],[6,7,8]])\n",
    "print(arr)"
   ]
  },
  {
   "cell_type": "code",
   "execution_count": 85,
   "metadata": {},
   "outputs": [
    {
     "name": "stdout",
     "output_type": "stream",
     "text": [
      "2\n",
      "(3, 3)\n",
      "[[6 7 8]]\n",
      "[[0 1 2]\n",
      " [3 4 5]]\n"
     ]
    }
   ],
   "source": [
    "#rank:number of dimensions of array\n",
    "print(arr.ndim)\n",
    "\n",
    "#shape\n",
    "print(arr.shape)# 3 x 3\n",
    "\n",
    "#slicing array\n",
    "print(arr[2:4])# 6,7,8\n",
    "print(arr[:2])# \n"
   ]
  },
  {
   "cell_type": "markdown",
   "metadata": {},
   "source": [
    "## 2. Matmul, Multiply"
   ]
  },
  {
   "cell_type": "code",
   "execution_count": 86,
   "metadata": {
    "scrolled": false
   },
   "outputs": [
    {
     "name": "stdout",
     "output_type": "stream",
     "text": [
      "Matmul:\n",
      "[[ 5]\n",
      " [11]]\n",
      "Multiply:\n",
      "[[1 2]\n",
      " [6 8]]\n"
     ]
    }
   ],
   "source": [
    "matrix1=tf.constant([[1,2],[3,4]])\n",
    "matrix2=tf.constant([[1],[2]])\n",
    "\n",
    "#Matmul: multiply of matrix1 and matrix2\n",
    "print(\"Matmul:\")\n",
    "print(tf.matmul(matrix1, matrix2).numpy())\n",
    "\n",
    "\n",
    "#Multiply: \n",
    "print(\"Multiply:\")\n",
    "print((matrix1 * matrix2).numpy())#this output came out because of broadcasting"
   ]
  },
  {
   "cell_type": "markdown",
   "metadata": {},
   "source": [
    "## 3. Broadcasting\n",
    ":make calculation of different-shaped matrix available"
   ]
  },
  {
   "cell_type": "code",
   "execution_count": 87,
   "metadata": {},
   "outputs": [
    {
     "name": "stdout",
     "output_type": "stream",
     "text": [
      "Multiply:\n",
      "[[4 6]]\n",
      "Broadcasting:\n",
      "[[4 5]]\n"
     ]
    }
   ],
   "source": [
    "mat1=tf.constant([[1,2]])\n",
    "mat2=tf.constant([[3,4]])\n",
    "print(\"Multiply:\")#when mat1,mat2 is same shape\n",
    "print((mat1+mat2).numpy())\n",
    "\n",
    "mat1=tf.constant([[1,2]])\n",
    "mat2=tf.constant([[3]]) \n",
    "print(\"Broadcasting:\")#when mat1,mat2 has different shape\n",
    "print((mat1+mat2).numpy())#broadcasting use [3,3] shape to calculate"
   ]
  },
  {
   "cell_type": "markdown",
   "metadata": {},
   "source": [
    "## 4-1.Reduce Mean\n",
    ":return mean of matrix selected by axis"
   ]
  },
  {
   "cell_type": "code",
   "execution_count": 88,
   "metadata": {},
   "outputs": [
    {
     "name": "stdout",
     "output_type": "stream",
     "text": [
      "[2. 3.]\n",
      "[1.5 3.5]\n",
      "2.5\n"
     ]
    }
   ],
   "source": [
    "x=tf.constant([[1.,2.],[3.,4.]])\n",
    "\n",
    "#reduce_mean(): return minimum values of each axis\n",
    "print(tf.reduce_mean(x,axis=0).numpy())#output:[mean(1,3),mean(2,4)]\n",
    "print(tf.reduce_mean(x,axis=1).numpy())#output:[mean(1,2),mean(3,4)]\n",
    "print(tf.reduce_mean(x).numpy())#if axis is not entered, return just mean(x)\n",
    "\n"
   ]
  },
  {
   "cell_type": "markdown",
   "metadata": {},
   "source": [
    "## 4-2.Reduce Sum\n",
    ":return sum of matrix selected by axis"
   ]
  },
  {
   "cell_type": "code",
   "execution_count": 89,
   "metadata": {},
   "outputs": [
    {
     "name": "stdout",
     "output_type": "stream",
     "text": [
      "[4. 6.]\n",
      "[3. 7.]\n",
      "[3. 7.]\n"
     ]
    }
   ],
   "source": [
    "print(tf.reduce_sum(x , axis=0).numpy())\n",
    "print(tf.reduce_sum(x , axis=1).numpy()) \n",
    "print(tf.reduce_sum(x , axis=-1).numpy()) # same axis = 1"
   ]
  },
  {
   "cell_type": "markdown",
   "metadata": {},
   "source": [
    "## 5.Argmax\n",
    ":return position of maximum value by axis"
   ]
  },
  {
   "cell_type": "code",
   "execution_count": 90,
   "metadata": {},
   "outputs": [
    {
     "name": "stdout",
     "output_type": "stream",
     "text": [
      "[1 0 0]\n",
      "[2 0]\n",
      "[2 0]\n"
     ]
    }
   ],
   "source": [
    "x=[[0,1,2],[2,1,0]]\n",
    "\n",
    "print(tf.argmax(x,axis=0).numpy()) #position of (2,1,2)\n",
    "print(tf.argmax(x,axis=1).numpy()) #position of (2,2)\n",
    "print(tf.argmax(x,axis=-1).numpy()) #same as axis=1"
   ]
  },
  {
   "cell_type": "markdown",
   "metadata": {},
   "source": [
    "## 6.Reshape(reshape,squeeze,expand)\n",
    ":return reshaped array of input matrix"
   ]
  },
  {
   "cell_type": "code",
   "execution_count": 91,
   "metadata": {},
   "outputs": [
    {
     "name": "stdout",
     "output_type": "stream",
     "text": [
      "(2, 2, 3)\n"
     ]
    }
   ],
   "source": [
    "x = tf.constant([[[0, 1, 2],\n",
    "                  [3, 4, 5]],\n",
    "                 [[6,7,8],\n",
    "                  [9,10,11]]\n",
    "                ])\n",
    "print(x.shape) #2*(2*3)"
   ]
  },
  {
   "cell_type": "code",
   "execution_count": 92,
   "metadata": {},
   "outputs": [
    {
     "name": "stdout",
     "output_type": "stream",
     "text": [
      "Reshape:\n",
      "[[ 0  1  2]\n",
      " [ 3  4  5]\n",
      " [ 6  7  8]\n",
      " [ 9 10 11]]\n"
     ]
    }
   ],
   "source": [
    "print(\"Reshape:\")\n",
    "print(tf.reshape(x,shape=[-1,3]).numpy()) \n",
    "\n",
    "#If you want more, try these\n",
    "#print(x.numpy()) #result expired after reshape function call\n",
    "#print(tf.reshape(x,shape=[-1,1,3]).numpy()) #add 1 more rank "
   ]
  },
  {
   "cell_type": "code",
   "execution_count": 93,
   "metadata": {},
   "outputs": [
    {
     "name": "stdout",
     "output_type": "stream",
     "text": [
      "Squeeze:\n",
      "[0 1 2]\n",
      "\n",
      "Expand_dims:\n",
      "[[0]\n",
      " [1]\n",
      " [2]]\n"
     ]
    }
   ],
   "source": [
    "print(\"Squeeze:\") #simplify the unused rank\n",
    "print(tf.squeeze([[[0],[1],[2]]]).numpy())\n",
    "\n",
    "print(\"\\nExpand_dims:\") #expand dimension of matrix\n",
    "print(tf.expand_dims([0,1,2], 1).numpy())"
   ]
  },
  {
   "cell_type": "markdown",
   "metadata": {},
   "source": [
    "## 7.One-Hot\n",
    ": express numbers by one-hot encoding.\n",
    "#### ex) [0,1,2,3] will be same as below.\n",
    "0 -> [1,0,0,0]<br>\n",
    "1 -> [0,1,0,0]<br>\n",
    "2-> [0,0,1,0]<br>\n",
    "3 -> [0,0,0,1]<br>\n",
    "0 -> [1,0,0,0]<br>"
   ]
  },
  {
   "cell_type": "code",
   "execution_count": 94,
   "metadata": {},
   "outputs": [
    {
     "name": "stdout",
     "output_type": "stream",
     "text": [
      "example:\n",
      "[[1. 0. 0. 0.]\n",
      " [0. 1. 0. 0.]\n",
      " [0. 0. 1. 0.]\n",
      " [0. 0. 0. 1.]]\n"
     ]
    }
   ],
   "source": [
    "print(\"example:\")\n",
    "arr = [0, 1, 2, 3]\n",
    "print(tf.one_hot(arr, depth=4).numpy())"
   ]
  },
  {
   "cell_type": "markdown",
   "metadata": {},
   "source": [
    "## 8.Type-casting\n",
    ":type casting array"
   ]
  },
  {
   "cell_type": "code",
   "execution_count": 95,
   "metadata": {},
   "outputs": [
    {
     "name": "stdout",
     "output_type": "stream",
     "text": [
      "[1 2 4 0]\n",
      "[1 0 1 0]\n"
     ]
    }
   ],
   "source": [
    "arr = [1.8, 2.2, 4.1, 0.5] \n",
    "print(tf.cast(arr,tf.int32).numpy()) #type-casting float array to int32\n",
    "print(tf.cast([True,False,1==1,0==1],tf.int32).numpy()) #casting boolean to int32"
   ]
  },
  {
   "cell_type": "markdown",
   "metadata": {},
   "source": [
    "## 9.Stack\n",
    ": return stack of input arrays by directed by axis"
   ]
  },
  {
   "cell_type": "code",
   "execution_count": 96,
   "metadata": {},
   "outputs": [
    {
     "name": "stdout",
     "output_type": "stream",
     "text": [
      "Stack_axis0:\n",
      "[[1 4]\n",
      " [2 5]\n",
      " [3 6]]\n",
      "Stack_axis1:\n",
      "[[1 2 3]\n",
      " [4 5 6]]\n"
     ]
    }
   ],
   "source": [
    "x = [1, 4]\n",
    "y = [2, 5]\n",
    "z = [3, 6]\n",
    "\n",
    "print(\"Stack_axis0:\") #axis 0: stacked in a row\n",
    "print(tf.stack([x,y,z],axis=0).numpy()) #axis=0\n",
    "print(\"Stack_axis1:\") #axis 1: stacked in a column\n",
    "print(tf.stack([x,y,z],axis=1).numpy()) #axis=1"
   ]
  },
  {
   "cell_type": "markdown",
   "metadata": {},
   "source": [
    "## 10.Ones,Zeros\n",
    ": return new arrays initialized with 1(ones) or 0(zeros)"
   ]
  },
  {
   "cell_type": "code",
   "execution_count": 97,
   "metadata": {},
   "outputs": [
    {
     "name": "stdout",
     "output_type": "stream",
     "text": [
      "Ones:\n",
      "[[1. 1. 1.]\n",
      " [1. 1. 1.]]\n",
      "Zeros:\n",
      "[[0. 0. 0. 0.]\n",
      " [0. 0. 0. 0.]\n",
      " [0. 0. 0. 0.]]\n"
     ]
    }
   ],
   "source": [
    "print(\"Ones:\")\n",
    "print(tf.ones([2,3]).numpy()) #create new array of ones in size(2*3)\n",
    "print(\"Zeros:\")\n",
    "print(tf.zeros([3,4]).numpy()) #create new array of zeros in size(3*4)"
   ]
  },
  {
   "cell_type": "markdown",
   "metadata": {},
   "source": [
    "## 11.Zip\n",
    ":return 2 arrays binded by index"
   ]
  },
  {
   "cell_type": "code",
   "execution_count": 98,
   "metadata": {},
   "outputs": [
    {
     "name": "stdout",
     "output_type": "stream",
     "text": [
      "zip(a,b):\n",
      "1 4\n",
      "2 5\n",
      "3 6\n",
      "zip(a,b,c):\n",
      "1 4 7\n",
      "2 5 8\n",
      "3 6 9\n"
     ]
    }
   ],
   "source": [
    "a = [1, 2, 3]\n",
    "b = [4, 5, 6]\n",
    "c = [7, 8, 9]\n",
    "\n",
    "print(\"zip(a,b):\")\n",
    "for x,y in zip(a,b):\n",
    "    print(x,y)\n",
    "print(\"zip(a,b,c):\")\n",
    "for x,y,z in zip(a,b,c):\n",
    "    print(x,y,z)"
   ]
  }
 ],
 "metadata": {
  "kernelspec": {
   "display_name": "Python 3",
   "language": "python",
   "name": "python3"
  },
  "language_info": {
   "codemirror_mode": {
    "name": "ipython",
    "version": 3
   },
   "file_extension": ".py",
   "mimetype": "text/x-python",
   "name": "python",
   "nbconvert_exporter": "python",
   "pygments_lexer": "ipython3",
   "version": "3.7.3"
  }
 },
 "nbformat": 4,
 "nbformat_minor": 2
}
