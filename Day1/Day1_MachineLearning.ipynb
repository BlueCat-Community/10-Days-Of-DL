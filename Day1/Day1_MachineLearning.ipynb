{
 "cells": [
  {
   "cell_type": "code",
   "execution_count": 1,
   "metadata": {},
   "outputs": [],
   "source": [
    "import tensorflow as tf"
   ]
  },
  {
   "cell_type": "code",
   "execution_count": 2,
   "metadata": {},
   "outputs": [
    {
     "name": "stdout",
     "output_type": "stream",
     "text": [
      "tf.Tensor(7, shape=(), dtype=int32)\n",
      "tf.Tensor(7, shape=(), dtype=int32)\n"
     ]
    }
   ],
   "source": [
    "\"\"\"\n",
    "Lab1 basic \n",
    "change existing lab1 code to tensorflow version 2\n",
    "existing code ; node1+node2\n",
    "\"\"\"\n",
    "\n",
    "#make constant\n",
    "node1= tf.constant(3)\n",
    "node2=tf.constant(4)\n",
    "\n",
    "node3=node1+node2\n",
    "\n",
    "print(node3)\n",
    "\n",
    "@tf.function # session 대신 사용\n",
    "def add(x,y):\n",
    "    return x+y\n",
    "\n",
    "print(add(tf.Variable(3),node2))\n"
   ]
  }
 ],
 "metadata": {
  "kernelspec": {
   "display_name": "Python 3",
   "language": "python",
   "name": "python3"
  },
  "language_info": {
   "codemirror_mode": {
    "name": "ipython",
    "version": 3
   },
   "file_extension": ".py",
   "mimetype": "text/x-python",
   "name": "python",
   "nbconvert_exporter": "python",
   "pygments_lexer": "ipython3",
   "version": "3.7.4"
  }
 },
 "nbformat": 4,
 "nbformat_minor": 2
}
