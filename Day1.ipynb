{
 "cells": [
  {
   "cell_type": "code",
   "execution_count": 124,
   "metadata": {},
   "outputs": [],
   "source": [
    "import tensorflow as tf\n",
    "from sklearn.datasets import load_boston\n",
    "import pandas as pd\n",
    "import numpy as np"
   ]
  },
  {
   "cell_type": "code",
   "execution_count": 51,
   "metadata": {},
   "outputs": [
    {
     "name": "stdout",
     "output_type": "stream",
     "text": [
      "tf.Tensor(7, shape=(), dtype=int32)\n",
      "tf.Tensor(7, shape=(), dtype=int32)\n"
     ]
    }
   ],
   "source": [
    "\"\"\"\n",
    "Lab1 basic \n",
    "change existing lab1 code to tensorflow version 2\n",
    "existing code ; node1+node2\n",
    "\"\"\"\n",
    "\n",
    "node1= tf.constant(3)\n",
    "node2=tf.constant(4)\n",
    "node3=node1+node2\n",
    "print(node3)\n",
    "\n",
    "\n",
    "@tf.function # session 대신 사용\n",
    "def add(x,y):\n",
    "    return x+y\n",
    "\n",
    "print(add(tf.Variable(3),node2))\n"
   ]
  },
  {
   "cell_type": "code",
   "execution_count": 162,
   "metadata": {},
   "outputs": [],
   "source": [
    "\"\"\"\n",
    "Lab2, Lab3 \n",
    "Linear regression and mimimize cost function\n",
    "\n",
    "\"\"\"\n",
    "n1=np.array([1,2,3,4,6])\n",
    "n2=np.array([2,4,6,8,10])\n",
    "\n",
    "#cmake constant\n",
    "X=tf.constant(n1, dtype=tf.float32)\n",
    "Y=tf.constant(n2, dtype=tf.float32)\n",
    "\n",
    "# Session 대신에 fucniton 으로\n",
    "\n",
    "#error\n",
    "def mean_squared_error(Y, y_pred):\n",
    "    return tf.reduce_mean(tf.square(y_pred- Y))\n",
    "\n",
    "#gradient\n",
    "def mean_squared_error_gradient(Y,y_pred):\n",
    "    return tf.reduce_mean( ( y_pred - Y ))\n",
    "\n",
    "def h (X,w,b):\n",
    "    return X*w+b\n",
    "\n"
   ]
  },
  {
   "cell_type": "code",
   "execution_count": 167,
   "metadata": {},
   "outputs": [
    {
     "name": "stdout",
     "output_type": "stream",
     "text": [
      "[1.5718462] x 0.97009164\n"
     ]
    }
   ],
   "source": [
    "w= tf.random.normal((1,1))\n",
    "b=0\n",
    "itera=3000\n",
    "learning_rate=0.05\n",
    "\n",
    "for i in range(itera):\n",
    "    \n",
    "    output=h(X,w,b)\n",
    "    \n",
    "    #using gradient descent formula\n",
    "    loss=mean_squared_error(Y, output)\n",
    "    gr=mean_squared_error_gradient(Y,output)    \n",
    "    w=w-learning_rate*tf.reduce_mean(gr*X)\n",
    "    b-=learning_rate*gr\n",
    "\n",
    "print(w.numpy()[0],\"x\" ,b.numpy())\n"
   ]
  }
 ],
 "metadata": {
  "kernelspec": {
   "display_name": "Python 3",
   "language": "python",
   "name": "python3"
  },
  "language_info": {
   "codemirror_mode": {
    "name": "ipython",
    "version": 3
   },
   "file_extension": ".py",
   "mimetype": "text/x-python",
   "name": "python",
   "nbconvert_exporter": "python",
   "pygments_lexer": "ipython3",
   "version": "3.7.4"
  }
 },
 "nbformat": 4,
 "nbformat_minor": 2
}
