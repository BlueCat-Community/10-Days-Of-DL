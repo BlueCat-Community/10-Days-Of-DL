{
 "cells": [
  {
   "cell_type": "code",
   "execution_count": null,
   "metadata": {},
   "outputs": [],
   "source": [
    "import tensorflow as tf\n",
    "\n",
    "# simple way\n",
    "w = tf.Variable(tf.initializers.glorot_uniform()(shape=[784,256]))\n",
    "#get_variable changed to Variable as tensorflow upgraded into 2.0\n",
    "#initializer=tf.contrib.layers.xavier_initializer() changed to tf.initializers.glorot_uniform\n",
    "#as tensorflow upgraded into 2.0\n",
    "\n",
    "#inside\n",
    "#input place holders\n",
    "tf.compat.v1.disable_eager_execution()\n",
    "#this code is added to disable the default activate eager execution as tensorflow is upgraded into 2.0\n",
    "X = tf.compat.v1.placeholder(tf.float32, [None,784])\n",
    "y = tf.compat.v1.placeholder(tf.float32,[None,10])\n",
    "#tf.placeholder is changed to tf.compat.v1.placeholder as tensorflow upgraded into 2.0\n",
    "\n",
    "#weights & bias for nn layers\n",
    "#code from http://stackoverflow.com/questions/33640581 as tensorflow 2.0\n",
    "W1 = tf.Variable(tf.initializers.glorot_uniform()(shape=[784,256]))\n",
    "#get_variable changed to Variable as tensorflow upgraded into 2.0\n",
    "#initializer=tf.contrib.layers.xavier_initializer() changed to tf.initializers.glorot_uniform\n",
    "#as tensorflow upgraded into 2.0\n",
    "b1 = tf.Variable(tf.random.normal([256]))\n",
    "#tf.random_normal changed into tf.random.normal as tensorflow upgraded into 2.0\n",
    "L1 = tf.nn.relu(tf.matmul(X,W1)+b1)\n",
    "\n",
    "W2 = tf.Variable(tf.initializers.glorot_uniform()(shape=[256,256]))\n",
    "#get_variable changed to Variable as tensorflow upgraded into 2.0\n",
    "#initializer=tf.contrib.layers.xavier_initializer() changed to tf.initializers.glorot_uniform\n",
    "#as tensorflow upgraded into 2.0\n",
    "b2 = tf.Variable(tf.random.normal([256]))\n",
    "#tf.random_normal changed into tf.random.normal as tensorflow upgraded into 2.0\n",
    "L2 = tf.nn.relu(tf.matmul(L1,W2)+b2)\n",
    "\n",
    "W3 = tf.Variable(tf.initializers.glorot_uniform()(shape=[256,10]))\n",
    "#get_variable changed to Variable as tensorflow upgraded into 2.0\n",
    "#initializer=tf.contrib.layers.xavier_initializer() changed to tf.initializers.glorot_uniform\n",
    "#as tensorflow upgraded into 2.0\n",
    "b3 = tf.Variable(tf.random.normal([10]))\n",
    "#tf.random_normal changed into tf.random.normal as tensorflow upgraded into 2.0\n",
    "L3 = tf.nn.relu(tf.matmul(L2,W3)+b3)\n",
    "\n",
    "#define cost/loss & optimizer\n",
    "cost = tf.reduce_mean(tf.nn.softmax_cross_entropy_with_logits(logits=hypothesis, labels=Y))\n",
    "optimizer = tf.train.AdamOptimizer(learning_rate=learning_rate).minimize(cost)\n",
    "#hypothesis & running rate is user custom value"
   ]
  }
 ],
 "metadata": {
  "kernelspec": {
   "display_name": "Python 3",
   "language": "python",
   "name": "python3"
  },
  "language_info": {
   "codemirror_mode": {
    "name": "ipython",
    "version": 3
   },
   "file_extension": ".py",
   "mimetype": "text/x-python",
   "name": "python",
   "nbconvert_exporter": "python",
   "pygments_lexer": "ipython3",
   "version": "3.7.4"
  }
 },
 "nbformat": 4,
 "nbformat_minor": 2
}
