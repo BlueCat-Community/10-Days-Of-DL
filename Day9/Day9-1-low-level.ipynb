{
 "cells": [
  {
   "cell_type": "code",
   "execution_count": 6,
   "metadata": {},
   "outputs": [
    {
     "name": "stdout",
     "output_type": "stream",
     "text": [
      "Tensorflow version: 2.0.0\n"
     ]
    }
   ],
   "source": [
    "import tensorflow as tf\n",
    "import matplotlib.pyplot as plt\n",
    "\n",
    "print(\"Tensorflow version: {}\".format(tf.__version__))\n",
    "\n",
    "# dataset\n",
    "X_train = [[0., 0.], [0., 1.], [1., 0.], [1., 1.]]  # input of XOR\n",
    "y_train = [[0.], [1.], [1.], [0.]]  # result of XOR"
   ]
  },
  {
   "cell_type": "code",
   "execution_count": 4,
   "metadata": {},
   "outputs": [],
   "source": [
    "# class definition\n",
    "class multipleLayerXOR(object):\n",
    "    '''\n",
    "    Make a neural network with 3 perceptrons,\n",
    "    and fit the model with gradient descendent\n",
    "    '''\n",
    "    def __init__(self, learning_rate=0.1):\n",
    "        '''\n",
    "        initialization\n",
    "        '''\n",
    "        self.W1 = tf.Variable(tf.random.normal([2, 2]), name='weight_1')\n",
    "        self.b1 = tf.Variable(tf.random.normal([2]), name='bias_1')\n",
    "        self.W2 = tf.Variable(tf.random.normal([2, 1]), name='weight_2')\n",
    "        self.b2 = tf.Variable(tf.random.normal([1]), name='bias_2')\n",
    "        # make Gradient descent optimizer\n",
    "        self.optimizer = tf.keras.optimizers.SGD(lr=learning_rate)\n",
    "\n",
    "    def fit(self, X, y, epochs=500):\n",
    "        '''\n",
    "        optimize parameters using the cost\n",
    "        epoch : learning count\n",
    "        return value: list of costs\n",
    "        '''\n",
    "        cost = []\n",
    "        for i in range(epochs):\n",
    "            with tf.GradientTape() as tape:\n",
    "                result_layer1 = tf.sigmoid(tf.matmul(X, self.W1) + self.b1)\n",
    "                prediction = tf.sigmoid(tf.matmul(result_layer1, self.W2) + self.b2)\n",
    "                curCost = -tf.reduce_mean(y * tf.math.log(prediction) +\n",
    "                                          (tf.subtract([[1.], [1.], [1.], [1.]], y) * tf.math.log(1 - prediction)))\n",
    "            # compute gradient\n",
    "            grads = tape.gradient(curCost, [self.W1, self.b1, self.W2, self.b2])\n",
    "            # find least cost by the optimizer\n",
    "            self.optimizer.apply_gradients(zip(grads, [self.W1, self.b1, self.W2, self.b2]))\n",
    "            cost.append(curCost)\n",
    "        return cost\n",
    "\n",
    "    def predict(self, X):\n",
    "        '''\n",
    "        Based on the fitted model, return predicted result of input parameter.\n",
    "        return value: predicted result\n",
    "        '''\n",
    "        return tf.sigmoid(tf.matmul(tf.sigmoid(tf.matmul(X, self.W1) + self.b1), self.W2) + self.b2)\n",
    "\n"
   ]
  },
  {
   "cell_type": "code",
   "execution_count": 7,
   "metadata": {},
   "outputs": [
    {
     "data": {
      "image/png": "[encoded data removed]",
      "text/plain": [
       "<Figure size 432x288 with 1 Axes>"
      ]
     },
     "metadata": {
      "needs_background": "light"
     },
     "output_type": "display_data"
    },
    {
     "name": "stdout",
     "output_type": "stream",
     "text": [
      "Real value :  [0.0]  Predicted value :  tf.Tensor([0.50648844], shape=(1,), dtype=float32)\n",
      "Real value :  [1.0]  Predicted value :  tf.Tensor([0.53953004], shape=(1,), dtype=float32)\n",
      "Real value :  [1.0]  Predicted value :  tf.Tensor([0.4636109], shape=(1,), dtype=float32)\n",
      "Real value :  [0.0]  Predicted value :  tf.Tensor([0.45321083], shape=(1,), dtype=float32)\n"
     ]
    },
    {
     "data": {
      "text/plain": [
       "'\\ninstall tensorboard by using command prompt\\n-> pip install tensorboard\\nafter installing, in command prompt, type\\n-> tensorboard --logdir=./logs\\nand copy-paste the local address to an internet browser\\n'"
      ]
     },
     "execution_count": 7,
     "metadata": {},
     "output_type": "execute_result"
    }
   ],
   "source": [
    "# make model\n",
    "model = multipleLayerXOR()\n",
    "costs = model.fit(X_train, y_train)\n",
    "\n",
    "# draw graph\n",
    "plt.plot(range(1, len(costs) + 1), costs)\n",
    "plt.xlabel('Epoch')\n",
    "plt.ylabel('Cost')\n",
    "plt.title(\"Implementing XOR with multiple layers using Gradient Descent\")\n",
    "plt.show()\n",
    "value_predict = model.predict(X_train)\n",
    "\n",
    "# compare real value and predicted value\n",
    "for i in range(4):\n",
    "    print(\"Real value : \", y_train[i], \" Predicted value : \", value_predict[i])"
   ]
  }
 ],
 "metadata": {
  "kernelspec": {
   "display_name": "Python 3",
   "language": "python",
   "name": "python3"
  },
  "language_info": {
   "codemirror_mode": {
    "name": "ipython",
    "version": 3
   },
   "file_extension": ".py",
   "mimetype": "text/x-python",
   "name": "python",
   "nbconvert_exporter": "python",
   "pygments_lexer": "ipython3",
   "version": "3.7.3"
  }
 },
 "nbformat": 4,
 "nbformat_minor": 2
}
