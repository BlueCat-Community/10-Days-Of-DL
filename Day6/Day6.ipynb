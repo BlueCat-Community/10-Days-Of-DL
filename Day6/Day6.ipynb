{
 "cells": [
  {
   "cell_type": "code",
   "execution_count": 42,
   "metadata": {},
   "outputs": [],
   "source": [
    "from __future__ import absolute_import, division, print_function, unicode_literals\n",
    "import numpy as np\n",
    "import os\n",
    "import matplotlib.pyplot as plt\n",
    "import tensorflow as tf\n"
   ]
  },
  {
   "cell_type": "code",
   "execution_count": 43,
   "metadata": {},
   "outputs": [],
   "source": [
    "def loss(model, x, y):\n",
    "    loss_object = tf.keras.losses.SparseCategoricalCrossentropy(from_logits=True)\n",
    "    y_ = model(x)\n",
    "    return loss_object(y_true=y, y_pred=y_)\n",
    "\n",
    "def pack_features_vector(features, labels):\n",
    "    #come together characteristics into one array\n",
    "    features = tf.stack(list(features.values()), axis=1)\n",
    "    return features, labels\n",
    "\n",
    "def grad(model, inputs, targets):\n",
    "    with tf.GradientTape() as tape:\n",
    "        loss_value = loss(model, inputs, targets)\n",
    "    return loss_value, tape.gradient(loss_value, model.trainable_variables)\n",
    "\n",
    "\n",
    "def SoftMax () : \n",
    "    print(\"Version Of tensorflow: {}\".format(tf.__version__))\n",
    "    train_dataset_url = \"https://storage.googleapis.com/download.tensorflow.org/data/iris_training.csv\"\n",
    "\n",
    "    train_dataset_fp = tf.keras.utils.get_file(fname=os.path.basename(train_dataset_url),\n",
    "                                           origin=train_dataset_url)\n",
    "\n",
    "    print(\"Dataset copy place: {}\".format(train_dataset_fp))\n",
    "    \n",
    "    # Column order\n",
    "    column_names = ['beverage_length', 'beverage_width', 'price_length', 'price_width', 'kind']\n",
    "\n",
    "    feature_names = column_names[:-1]\n",
    "    label_name = column_names[-1]\n",
    "\n",
    "    print(\"Characteristic: {}\".format(feature_names))\n",
    "    print(\"Labels: {}\".format(label_name))\n",
    "    \n",
    "    #creating Dataset\n",
    "    \n",
    "    batch_size = 32\n",
    "\n",
    "    train_dataset = tf.data.experimental.make_csv_dataset(\n",
    "    train_dataset_fp,\n",
    "    batch_size,\n",
    "    column_names=column_names,\n",
    "    label_name=label_name,\n",
    "    num_epochs=1)\n",
    "    \n",
    "    features, labels = next(iter(train_dataset))\n",
    "\n",
    "    print(features)\n",
    "    \n",
    "    # Checking data from batch\n",
    "    plt.scatter(features['beverage_length'],\n",
    "            features['price_length'],\n",
    "            c=labels,\n",
    "            cmap='viridis')\n",
    "\n",
    "    plt.xlabel(\"beverage_length\")\n",
    "    plt.ylabel(\"price_length\")\n",
    "    plt.show()\n",
    "    \n",
    "    train_dataset = train_dataset.map(pack_features_vector)\n",
    "    \n",
    "    features, labels = next(iter(train_dataset))\n",
    "\n",
    "    print(features[:5])\n",
    "    \n",
    "    \n",
    "    model = tf.keras.Sequential([\n",
    "    tf.keras.layers.Dense(10, activation=tf.nn.relu, input_shape=(4,)),  # 입력의 형태가 필요합니다.\n",
    "    tf.keras.layers.Dense(10, activation=tf.nn.relu),\n",
    "    tf.keras.layers.Dense(3)\n",
    "    ])\n",
    "    \n",
    "    predictions = model(features)\n",
    "    # show 5 samples\n",
    "    predictions[:5]\n",
    "    \n",
    "    tf.nn.softmax(predictions[:5])\n",
    "    \n",
    "    l = loss(model, features, labels)\n",
    "    print(\"Loss test: {}\".format(l))\n",
    "    \n",
    "    optimizer = tf.keras.optimizers.Adam(learning_rate=0.01)\n",
    "    \n",
    "    loss_value, grads = grad(model, features, labels)\n",
    "\n",
    "    print(\"Step: {}, initial loss: {}\".format(optimizer.iterations.numpy(),\n",
    "                                          loss_value.numpy()))\n",
    "\n",
    "    optimizer.apply_gradients(zip(grads, model.trainable_variables))\n",
    "\n",
    "    print(\"Step: {},      loss: {}\".format(optimizer.iterations.numpy(),\n",
    "                                          loss(model, features, labels).numpy()))\n",
    "    \n",
    "    \n",
    "    #Running this cell again uses variables from the same model.\n",
    "    train_loss_results = []\n",
    "    train_accuracy_results = []\n",
    "\n",
    "    num_epochs = 201\n",
    "\n",
    "    for epoch in range(num_epochs):\n",
    "        epoch_loss_avg = tf.keras.metrics.Mean()\n",
    "        epoch_accuracy = tf.keras.metrics.SparseCategoricalAccuracy()\n",
    "        for x, y in train_dataset:\n",
    "            loss_value, grads = grad(model, x, y)\n",
    "            optimizer.apply_gradients(zip(grads, model.trainable_variables))\n",
    "            epoch_loss_avg(loss_value)  # 현재 배치 손실을 추가합니다.\n",
    "            epoch_accuracy(y, model(x))\n",
    "\n",
    "    train_loss_results.append(epoch_loss_avg.result())\n",
    "    train_accuracy_results.append(epoch_accuracy.result())\n",
    "\n",
    "    if epoch % 50 == 0:\n",
    "        print(\"Epoch {:03d}: loss: {:.3f}, Accuracy: {:.3%}\".format(epoch,\n",
    "                                                                epoch_loss_avg.result(),\n",
    "                                                                epoch_accuracy.result()))\n",
    "        \n",
    "    #ref : https://www.tensorflow.org/tutorials/customization/custom_training_walkthrough\n"
   ]
  },
  {
   "cell_type": "code",
   "execution_count": 44,
   "metadata": {},
   "outputs": [
    {
     "name": "stdout",
     "output_type": "stream",
     "text": [
      "Version Of tensorflow: 2.0.0\n",
      "Dataset copy place: C:\\Users\\GC\\.keras\\datasets\\iris_training.csv\n",
      "Characteristic: ['beverage_length', 'beverage_width', 'price_length', 'price_width']\n",
      "Labels: kind\n",
      "OrderedDict([('beverage_length', <tf.Tensor: id=337937, shape=(32,), dtype=float32, numpy=\n",
      "array([7.3, 5.3, 5.4, 5.6, 6. , 6.7, 5.5, 6.5, 6.3, 6.3, 6.2, 6.2, 5. ,\n",
      "       5.7, 4.4, 6.1, 5.4, 6.6, 6.8, 4.9, 6.4, 6. , 5.4, 5.1, 6.5, 6.9,\n",
      "       5. , 4.9, 4.6, 6.1, 5. , 6.1], dtype=float32)>), ('beverage_width', <tf.Tensor: id=337938, shape=(32,), dtype=float32, numpy=\n",
      "array([2.9, 3.7, 3.7, 2.7, 3. , 3. , 2.4, 3. , 3.3, 2.7, 2.2, 2.8, 3.3,\n",
      "       2.8, 3.2, 2.8, 3. , 3. , 3.2, 3.1, 3.1, 2.9, 3.4, 3.8, 2.8, 3.1,\n",
      "       2.3, 3.1, 3.2, 2.6, 3.2, 3. ], dtype=float32)>), ('price_length', <tf.Tensor: id=337939, shape=(32,), dtype=float32, numpy=\n",
      "array([6.3, 1.5, 1.5, 4.2, 4.8, 5. , 3.8, 5.5, 6. , 4.9, 4.5, 4.8, 1.4,\n",
      "       4.5, 1.3, 4. , 4.5, 4.4, 5.9, 1.5, 5.5, 4.5, 1.5, 1.5, 4.6, 5.1,\n",
      "       3.3, 1.5, 1.4, 5.6, 1.2, 4.9], dtype=float32)>), ('price_width', <tf.Tensor: id=337940, shape=(32,), dtype=float32, numpy=\n",
      "array([1.8, 0.2, 0.2, 1.3, 1.8, 1.7, 1.1, 1.8, 2.5, 1.8, 1.5, 1.8, 0.2,\n",
      "       1.3, 0.2, 1.3, 1.5, 1.4, 2.3, 0.1, 1.8, 1.5, 0.4, 0.3, 1.5, 2.3,\n",
      "       1. , 0.1, 0.2, 1.4, 0.2, 1.8], dtype=float32)>)])\n"
     ]
    },
    {
     "data": {
      "image/png": "[encoded data removed]",
      "text/plain": [
       "<Figure size 432x288 with 1 Axes>"
      ]
     },
     "metadata": {
      "needs_background": "light"
     },
     "output_type": "display_data"
    },
    {
     "name": "stdout",
     "output_type": "stream",
     "text": [
      "tf.Tensor(\n",
      "[[5.8 2.7 4.1 1. ]\n",
      " [6.3 3.3 6.  2.5]\n",
      " [4.7 3.2 1.3 0.2]\n",
      " [6.4 2.8 5.6 2.2]\n",
      " [7.7 2.6 6.9 2.3]], shape=(5, 4), dtype=float32)\n",
      "Loss test: 1.5851478576660156\n",
      "Step: 0, initial loss: 1.5851478576660156\n",
      "Step: 1,      loss: 1.3258764743804932\n",
      "Epoch 200: loss: 0.045, Accuracy: 98.333%\n"
     ]
    }
   ],
   "source": [
    "SoftMax()"
   ]
  },
  {
   "cell_type": "code",
   "execution_count": null,
   "metadata": {},
   "outputs": [],
   "source": []
  },
  {
   "cell_type": "code",
   "execution_count": null,
   "metadata": {},
   "outputs": [],
   "source": []
  }
 ],
 "metadata": {
  "kernelspec": {
   "display_name": "Python 3",
   "language": "python",
   "name": "python3"
  },
  "language_info": {
   "codemirror_mode": {
    "name": "ipython",
    "version": 3
   },
   "file_extension": ".py",
   "mimetype": "text/x-python",
   "name": "python",
   "nbconvert_exporter": "python",
   "pygments_lexer": "ipython3",
   "version": "3.7.3"
  }
 },
 "nbformat": 4,
 "nbformat_minor": 2
}
