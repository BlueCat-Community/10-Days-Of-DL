{
 "cells": [
  {
   "cell_type": "code",
   "execution_count": 19,
   "metadata": {},
   "outputs": [],
   "source": [
    "import tensorflow as tf\n",
    "import numpy as np\n",
    "import pprint"
   ]
  },
  {
   "cell_type": "markdown",
   "metadata": {},
   "source": [
    "### 1. Simple 1D array and slicing\n",
    "\n",
    "<b>rank</b> : Dimension of array<br>\n",
    "<b>shape</b> : Appearance of aaray / Contained element\n",
    "\n",
    "<b>slicing</b> : Split array"
   ]
  },
  {
   "cell_type": "code",
   "execution_count": 20,
   "metadata": {},
   "outputs": [
    {
     "name": "stdout",
     "output_type": "stream",
     "text": [
      "[0. 1. 2. 3. 4. 5. 6.]\n",
      "6.0\n",
      "[0. 1. 2.]\n",
      "[0. 1. 2. 3. 4. 5.]\n"
     ]
    }
   ],
   "source": [
    "# 1D Array\n",
    "\n",
    "t = np.array([0., 1., 2., 3., 4., 5., 6.])\n",
    "\n",
    "print(t)\n",
    "\n",
    "# Indexing array\n",
    "print(t[-1]) # array t's last index\n",
    "\n",
    "# Slicing array\n",
    "print(t[:3]) # array t's #0~2\n",
    "print(t[:-1]) # array t's #2~last-1"
   ]
  },
  {
   "cell_type": "markdown",
   "metadata": {},
   "source": [
    "### 2. 2D Array\n",
    "\n",
    "Like 1D array, rank, shape, indexing and slicing are possible."
   ]
  },
  {
   "cell_type": "code",
   "execution_count": 21,
   "metadata": {},
   "outputs": [
    {
     "name": "stdout",
     "output_type": "stream",
     "text": [
      "array([[ 0.,  1.,  2.],\n",
      "       [ 3.,  4.,  5.],\n",
      "       [ 6.,  7.,  8.],\n",
      "       [ 9., 10., 11.],\n",
      "       [12., 13., 14.]])\n",
      "2\n",
      "(5, 3)\n",
      "\n",
      "5.0\n",
      "[ 2.  5.  8. 11. 14.]\n",
      "[0. 1. 2.]\n"
     ]
    }
   ],
   "source": [
    "# 2D Array\n",
    "\n",
    "pp = pprint.PrettyPrinter(indent=4)\n",
    " \n",
    "t2 = np.array([[0., 1., 2.],[3., 4., 5.],[6., 7., 8.],[9., 10., 11.],[12., 13., 14.]])\n",
    "\n",
    "pp.pprint(t2)\n",
    "\n",
    "print(t2.ndim) # check t2' rank\n",
    "print(t2.shape, end = \"\\n\\n\") # check t2's shape\n",
    "\n",
    "# Indexing array\n",
    "print(t2[1 ,2])\n",
    "\n",
    "# Slicing array\n",
    "print(t2[:,2]) # Column 2's all index\n",
    "print(t2[0,:]) # Row 0's all index"
   ]
  },
  {
   "cell_type": "markdown",
   "metadata": {},
   "source": [
    "### 3. Matmul vs Multiply\n",
    "\n",
    "When multiplying an array, the shapes must match.<br>\n",
    "The last shape of the previous array and the first shape of the rear array must match.\n",
    "\n",
    "The product of an array is represented using the <b>Matmul</b> function.<br>\n",
    "Using the <b>* operator</b>, which we commonly use for multiplication, yields values other than the product of arrays."
   ]
  },
  {
   "cell_type": "code",
   "execution_count": 29,
   "metadata": {},
   "outputs": [
    {
     "name": "stdout",
     "output_type": "stream",
     "text": [
      "Matrix1  shape: (2, 2)\n",
      "Matrix2  shape: (2, 1)\n",
      "\n",
      "Matmul example\n",
      "[[ 5]\n",
      " [11]]\n",
      "\n",
      "Multiply example\n",
      "[[1 2]\n",
      " [6 8]]\n"
     ]
    }
   ],
   "source": [
    "# Matmul vs Multiply\n",
    "\n",
    "matrix1 = tf.constant([[1, 2],[3, 4]])\n",
    "matrix2 = tf.constant([[1],[2]])\n",
    "\n",
    "print('Matrix1  shape:', matrix1.shape)\n",
    "print('Matrix2  shape:', matrix2.shape, end = \"\\n\\n\")\n",
    "\n",
    "# Matmul arrays\n",
    "print(\"Matmul example\")\n",
    "print(tf.matmul(matrix1, matrix2).numpy(), end=\"\\n\\n\")\n",
    "\n",
    "# Multiply arrays\n",
    "print(\"Multiply example\")\n",
    "print((matrix1 * matrix2).numpy())"
   ]
  },
  {
   "cell_type": "markdown",
   "metadata": {},
   "source": [
    "### 4. Broadcasting\n",
    "\n",
    "<b>Broadcasting</b> automatically calculates and calculates shapes when they do not match the shape of the array.<br>\n",
    "\n",
    "<b>Boradcasting is convenient, but if you don't check the shape correctyl, you might get incorrect results.</b>"
   ]
  },
  {
   "cell_type": "code",
   "execution_count": 31,
   "metadata": {},
   "outputs": [
    {
     "name": "stdout",
     "output_type": "stream",
     "text": [
      "[6 6]\n",
      "\n",
      "[13 16]\n",
      "\n"
     ]
    }
   ],
   "source": [
    "# Broadcasting\n",
    "\n",
    "# When shape is correct\n",
    "matrix1 = tf.constant([3, 3])\n",
    "matrix2 = tf.constant([3, 3])\n",
    "print((matrix1 + matrix2).numpy(), end=\"\\n\\n\")\n",
    "\n",
    "# When shape is different - automatically broadcasting\n",
    "matrix1 = tf.constant([3, 6])\n",
    "matrix2 = tf.constant([10])\n",
    "print((matrix1 + matrix2).numpy(), end=\"\\n\\n\")"
   ]
  },
  {
   "cell_type": "markdown",
   "metadata": {},
   "source": [
    "### 5. Reduce mean and Reduce sum\n",
    "\n",
    "<b>Reduce mean & sum</b> is affected by data types.<br>\n",
    "\n",
    "If the array is int type, <b>Reduce mean & sum</b> are also printed as int type. Therefore, when using <b>Reduce mean & sum</b>, you should use float point."
   ]
  },
  {
   "cell_type": "code",
   "execution_count": 43,
   "metadata": {},
   "outputs": [
    {
     "name": "stdout",
     "output_type": "stream",
     "text": [
      "Reduce mean\n",
      "1\n",
      "2.5\n",
      "\n",
      "Reduce sum\n",
      "10.0\n",
      "5.0\n"
     ]
    }
   ],
   "source": [
    "# Reduce mean and Reduce sum\n",
    "\n",
    "# Reduce mean\n",
    "print(\"Reduce mean\")\n",
    "\n",
    "# When using int type\n",
    "print(tf.reduce_mean([1, 2], axis =0).numpy())\n",
    "\n",
    "# When using float type\n",
    "x = [[1., 2.],[3., 4.,]]\n",
    "print(tf.reduce_mean(x).numpy(), end=\"\\n\\n\")\n",
    "\n",
    "# Reduce sum\n",
    "print(\"Reduce sum\")\n",
    "\n",
    "# array x's sum\n",
    "print(tf.reduce_sum(x).numpy())\n",
    "# array axis -1's sum and mean\n",
    "print(tf.reduce_mean(tf.reduce_sum(x, axis = -1)).numpy())"
   ]
  },
  {
   "cell_type": "markdown",
   "metadata": {},
   "source": [
    "### 6. Argmax\n",
    "\n",
    "<b>Argmex</b> returns the position of the element with the largest value along the axis we set."
   ]
  },
  {
   "cell_type": "code",
   "execution_count": 44,
   "metadata": {},
   "outputs": [
    {
     "name": "stdout",
     "output_type": "stream",
     "text": [
      "[1 0 0]\n",
      "[2 0]\n"
     ]
    }
   ],
   "source": [
    "# Argmax\n",
    "\n",
    "x = [[0, 1, 2],\n",
    "    [2, 1, 0]]\n",
    "\n",
    "# axis 0's max value's index\n",
    "print(tf.argmax(x, axis = 0).numpy())\n",
    "\n",
    "# axis -1's max value's index\n",
    "print(tf.argmax(x, axis = -1).numpy())"
   ]
  },
  {
   "cell_type": "markdown",
   "metadata": {},
   "source": [
    "### 7. Reshape\n",
    "\n",
    "<b>Reshape</b> changes the shape of the array to the shape we want.<br>\n",
    "\n",
    "-1 of the shape means that the computer will arrange it autonomously.\n",
    "\n",
    "<b>squeeze</b> : Combining dimensions of an array into one.\n",
    "<b>expand</b> : Increasing the dimensions of an array."
   ]
  },
  {
   "cell_type": "code",
   "execution_count": 53,
   "metadata": {},
   "outputs": [
    {
     "name": "stdout",
     "output_type": "stream",
     "text": [
      "(2, 2, 3)\n",
      "\n",
      "[[ 0  1  2]\n",
      " [ 3  4  5]\n",
      " [ 6  7  8]\n",
      " [ 9 10 11]]\n",
      "\n",
      "[[[ 0  1  2]]\n",
      "\n",
      " [[ 3  4  5]]\n",
      "\n",
      " [[ 6  7  8]]\n",
      "\n",
      " [[ 9 10 11]]]\n",
      "\n",
      "[0 1 2]\n",
      "\n",
      "[[0]\n",
      " [1]\n",
      " [2]]\n"
     ]
    }
   ],
   "source": [
    "# Reshape\n",
    "\n",
    "t = np.array([[[0, 1, 2],\n",
    "              [3, 4, 5]],\n",
    "             [[6, 7, 8],\n",
    "             [9, 10, 11]]])\n",
    "\n",
    "# t's shape\n",
    "print(t.shape, end = \"\\n\\n\")\n",
    "\n",
    "# reshape array t\n",
    "print(tf.reshape(t, shape = [-1, 3]).numpy(), end = \"\\n\\n\")\n",
    "\n",
    "# reshape array t\n",
    "print(tf.reshape(t, shape = [-1,1, 3]).numpy(), end = \"\\n\\n\")\n",
    "\n",
    "# squeeze\n",
    "print(tf.squeeze([[0], [1], [2]]).numpy(), end = \"\\n\\n\")\n",
    "\n",
    "# expand\n",
    "print(tf.expand_dims([0 ,1 ,2], 1).numpy())"
   ]
  },
  {
   "cell_type": "markdown",
   "metadata": {},
   "source": [
    "### 8. One-hot\n",
    "\n",
    "<b>One-hot</b> is expression, which the index position to be expressed is 1, and otherwise is 0."
   ]
  },
  {
   "cell_type": "code",
   "execution_count": 54,
   "metadata": {},
   "outputs": [
    {
     "name": "stdout",
     "output_type": "stream",
     "text": [
      "[[[1. 0. 0.]]\n",
      "\n",
      " [[0. 1. 0.]]\n",
      "\n",
      " [[0. 0. 1.]]]\n"
     ]
    }
   ],
   "source": [
    "# One-hot\n",
    "\n",
    "print(tf.one_hot([[0], [1],[2]], depth = 3).numpy())"
   ]
  },
  {
   "cell_type": "code",
   "execution_count": 55,
   "metadata": {},
   "outputs": [
    {
     "name": "stdout",
     "output_type": "stream",
     "text": [
      "[[1. 0. 0.]\n",
      " [0. 1. 0.]\n",
      " [0. 0. 1.]\n",
      " [1. 0. 0.]]\n"
     ]
    }
   ],
   "source": [
    "t = tf.one_hot([[0], [1], [2], [0]], depth = 3).numpy()\n",
    "print(tf.reshape(t, shape = [-1, 3]).numpy())"
   ]
  },
  {
   "cell_type": "markdown",
   "metadata": {},
   "source": [
    "### 9. Casting\n",
    "\n",
    "<b>Casting</b> is chane the data type of the elements which in arrays."
   ]
  },
  {
   "cell_type": "code",
   "execution_count": 56,
   "metadata": {},
   "outputs": [
    {
     "data": {
      "text/plain": [
       "array([1, 2, 3, 4])"
      ]
     },
     "execution_count": 56,
     "metadata": {},
     "output_type": "execute_result"
    }
   ],
   "source": [
    "# Casting\n",
    "\n",
    "# Change float to int\n",
    "tf.cast([1.8, 2.2, 3.3, 4.9], tf.int32).numpy()"
   ]
  },
  {
   "cell_type": "code",
   "execution_count": 57,
   "metadata": {},
   "outputs": [
    {
     "data": {
      "text/plain": [
       "array([1, 0, 1, 0])"
      ]
     },
     "execution_count": 57,
     "metadata": {},
     "output_type": "execute_result"
    }
   ],
   "source": [
    "# Change boolean to int\n",
    "tf.cast([True, False, 1 == 1, 0 == 1], tf.int32).numpy()"
   ]
  },
  {
   "cell_type": "markdown",
   "metadata": {},
   "source": [
    "### 10. Stack"
   ]
  },
  {
   "cell_type": "code",
   "execution_count": 58,
   "metadata": {},
   "outputs": [
    {
     "data": {
      "text/plain": [
       "array([[1, 4],\n",
       "       [2, 5],\n",
       "       [3, 6]])"
      ]
     },
     "execution_count": 58,
     "metadata": {},
     "output_type": "execute_result"
    }
   ],
   "source": [
    "# Stack\n",
    "\n",
    "x = [1, 4]\n",
    "y = [2, 5]\n",
    "z = [3, 6]\n",
    "\n",
    "# Stack three arrays\n",
    "tf.stack([x, y, z]).numpy()"
   ]
  },
  {
   "cell_type": "code",
   "execution_count": 59,
   "metadata": {},
   "outputs": [
    {
     "data": {
      "text/plain": [
       "array([[1, 2, 3],\n",
       "       [4, 5, 6]])"
      ]
     },
     "execution_count": 59,
     "metadata": {},
     "output_type": "execute_result"
    }
   ],
   "source": [
    "# Stack three arrays and axis is 1\n",
    "tf.stack([x, y, z], axis = 1).numpy()"
   ]
  },
  {
   "cell_type": "code",
   "execution_count": 60,
   "metadata": {},
   "outputs": [
    {
     "data": {
      "text/plain": [
       "array([[1, 4],\n",
       "       [2, 5],\n",
       "       [3, 6]])"
      ]
     },
     "execution_count": 60,
     "metadata": {},
     "output_type": "execute_result"
    }
   ],
   "source": [
    "# Stack three arrays and axis is 0\n",
    "tf.stack([x, y, z], axis = 0).numpy()"
   ]
  },
  {
   "cell_type": "markdown",
   "metadata": {},
   "source": [
    "### 11. Ones and Zeros like\n",
    "\n",
    "<b>Ones and Zeros like</b> is used when you want to get an array filled with 0 or 1 values while retaining the shape of an array."
   ]
  },
  {
   "cell_type": "code",
   "execution_count": 61,
   "metadata": {},
   "outputs": [
    {
     "data": {
      "text/plain": [
       "array([[1, 1, 1],\n",
       "       [1, 1, 1]])"
      ]
     },
     "execution_count": 61,
     "metadata": {},
     "output_type": "execute_result"
    }
   ],
   "source": [
    "# Ones and Zeros like\n",
    "\n",
    "x = [[2, 1, 0],\n",
    "    [0, 1, 2]]\n",
    "\n",
    "# fill array with 1\n",
    "tf.ones_like(x).numpy()"
   ]
  },
  {
   "cell_type": "code",
   "execution_count": 62,
   "metadata": {},
   "outputs": [
    {
     "data": {
      "text/plain": [
       "array([[0, 0, 0],\n",
       "       [0, 0, 0]])"
      ]
     },
     "execution_count": 62,
     "metadata": {},
     "output_type": "execute_result"
    }
   ],
   "source": [
    "# fill array with 0\n",
    "tf.zeros_like(x).numpy()"
   ]
  },
  {
   "cell_type": "markdown",
   "metadata": {},
   "source": [
    "### 12. Zip\n",
    "\n",
    "If you use <b>zip</b>, then you can handle multiple arrays at once."
   ]
  },
  {
   "cell_type": "code",
   "execution_count": 64,
   "metadata": {},
   "outputs": [
    {
     "name": "stdout",
     "output_type": "stream",
     "text": [
      "1 4\n",
      "2 5\n",
      "3 6\n",
      "\n",
      "1 4 7\n",
      "2 5 8\n",
      "3 6 9\n"
     ]
    }
   ],
   "source": [
    "# Zip\n",
    "\n",
    "for x, y in zip([1,2,3], [4,5,6]):\n",
    "    print(x, y)\n",
    "    \n",
    "print()\n",
    "    \n",
    "for x, y, z in zip([1, 2, 3], [4, 5, 6], [7, 8, 9]):\n",
    "    print(x, y, z)"
   ]
  },
  {
   "cell_type": "code",
   "execution_count": null,
   "metadata": {},
   "outputs": [],
   "source": []
  }
 ],
 "metadata": {
  "kernelspec": {
   "display_name": "Python 3",
   "language": "python",
   "name": "python3"
  },
  "language_info": {
   "codemirror_mode": {
    "name": "ipython",
    "version": 3
   },
   "file_extension": ".py",
   "mimetype": "text/x-python",
   "name": "python",
   "nbconvert_exporter": "python",
   "pygments_lexer": "ipython3",
   "version": "3.7.3"
  }
 },
 "nbformat": 4,
 "nbformat_minor": 2
}
