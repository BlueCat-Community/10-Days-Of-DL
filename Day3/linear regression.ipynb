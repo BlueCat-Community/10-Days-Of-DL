{
 "cells": [
  {
   "cell_type": "code",
   "execution_count": 21,
   "metadata": {},
   "outputs": [
    {
     "data": {
      "image/png": "[encoded data removed]",
      "text/plain": [
       "<Figure size 432x288 with 1 Axes>"
      ]
     },
     "metadata": {
      "needs_background": "light"
     },
     "output_type": "display_data"
    },
    {
     "name": "stdout",
     "output_type": "stream",
     "text": [
      "Loss : \n",
      "12.655065\n",
      " 0: W=-0.97 b=1.34, Loss=17.23811\n",
      " 1: W=-0.18 b=1.50, Loss=11.35433\n",
      " 2: W=0.46 b=1.62, Loss=7.60173\n",
      " 3: W=0.96 b=1.71, Loss=5.20777\n",
      " 4: W=1.37 b=1.78, Loss=3.68017\n",
      " 5: W=1.70 b=1.84, Loss=2.70515\n",
      " 6: W=1.95 b=1.88, Loss=2.08266\n",
      " 7: W=2.16 b=1.91, Loss=1.68514\n",
      " 8: W=2.33 b=1.94, Loss=1.43122\n",
      " 9: W=2.46 b=1.95, Loss=1.26898\n",
      "10: W=2.57 b=1.97, Loss=1.16529\n",
      "11: W=2.65 b=1.98, Loss=1.09900\n",
      "12: W=2.72 b=1.99, Loss=1.05662\n",
      "13: W=2.78 b=1.99, Loss=1.02951\n",
      "14: W=2.82 b=2.00, Loss=1.01216\n",
      "15: W=2.86 b=2.00, Loss=1.00106\n",
      "16: W=2.88 b=2.00, Loss=0.99396\n",
      "17: W=2.91 b=2.00, Loss=0.98941\n",
      "18: W=2.92 b=2.00, Loss=0.98649\n",
      "19: W=2.94 b=2.00, Loss=0.98463\n",
      "20: W=2.95 b=2.00, Loss=0.98343\n",
      "21: W=2.96 b=2.01, Loss=0.98266\n",
      "22: W=2.97 b=2.01, Loss=0.98217\n",
      "23: W=2.97 b=2.01, Loss=0.98186\n",
      "24: W=2.98 b=2.01, Loss=0.98165\n",
      "25: W=2.98 b=2.01, Loss=0.98152\n",
      "26: W=2.98 b=2.01, Loss=0.98144\n",
      "27: W=2.99 b=2.01, Loss=0.98139\n",
      "28: W=2.99 b=2.01, Loss=0.98135\n",
      "29: W=2.99 b=2.01, Loss=0.98133\n"
     ]
    },
    {
     "data": {
      "image/png": "[encoded data removed]",
      "text/plain": [
       "<Figure size 432x288 with 1 Axes>"
      ]
     },
     "metadata": {
      "needs_background": "light"
     },
     "output_type": "display_data"
    }
   ],
   "source": [
    "import tensorflow as tf\n",
    "import matplotlib.pyplot as plt\n",
    "\n",
    "class Model(object):\n",
    "  def __init__(self):\n",
    "    # W, b is random num\n",
    "    self.W = tf.Variable(tf.random.normal([1]))\n",
    "    self.b = tf.Variable(tf.random.normal([1]))\n",
    "\n",
    "  def __call__(self, x):\n",
    "    return self.W * x + self.b\n",
    "\n",
    "model = Model()\n",
    "\n",
    "#assert model(3.0).numpy() == 15.0\n",
    "\n",
    "def loss(predicted_y, desired_y):\n",
    "  return tf.reduce_mean(tf.square(predicted_y - desired_y))\n",
    "\n",
    "TRUE_W = 3.0\n",
    "TRUE_b = 2.0\n",
    "NUM_EXAMPLES = 1000\n",
    "\n",
    "inputs  = tf.random.normal(shape=[NUM_EXAMPLES])\n",
    "noise   = tf.random.normal(shape=[NUM_EXAMPLES])\n",
    "outputs = inputs * TRUE_W + TRUE_b + noise\n",
    "\n",
    "# Graph - Current data\n",
    "plt.scatter(inputs, outputs, c='b')\n",
    "plt.scatter(inputs, model(inputs), c='r')\n",
    "plt.show()\n",
    "\n",
    "print('Loss : '),\n",
    "print(loss(model(inputs), outputs).numpy())\n",
    "\n",
    "# Gradient Descent - We can use Optimize but just use train function\n",
    "def train(model, inputs, outputs, learning_rate):\n",
    "  with tf.GradientTape() as t:\n",
    "    current_loss = loss(model(inputs), outputs)\n",
    "  dW, db = t.gradient(current_loss, [model.W, model.b])\n",
    "  model.W.assign_sub(learning_rate * dW)\n",
    "  model.b.assign_sub(learning_rate * db)\n",
    "\n",
    "model = Model()\n",
    "\n",
    "# Save change of W and b\n",
    "Ws, bs = [], []\n",
    "\n",
    "# ephochs = loop num\n",
    "epochs = range(30)\n",
    "for epoch in epochs:\n",
    "  Ws.append(model.W.numpy())\n",
    "  bs.append(model.b.numpy())\n",
    "  current_loss = loss(model(inputs), outputs)\n",
    "\n",
    "  train(model, inputs, outputs, learning_rate=0.1)\n",
    "  print('%2d: W=%1.2f b=%1.2f, Loss=%2.5f' %\n",
    "        (epoch, Ws[-1], bs[-1], current_loss))\n",
    "\n",
    "# Make Graph\n",
    "plt.plot(epochs, Ws, 'r',\n",
    "         epochs, bs, 'b')\n",
    "plt.plot([TRUE_W] * len(epochs), 'r--',\n",
    "         [TRUE_b] * len(epochs), 'b--')\n",
    "plt.legend(['W', 'b', 'true W', 'true_b'])\n",
    "plt.show()"
   ]
  },
  {
   "cell_type": "code",
   "execution_count": null,
   "metadata": {},
   "outputs": [],
   "source": []
  },
  {
   "cell_type": "code",
   "execution_count": null,
   "metadata": {},
   "outputs": [],
   "source": []
  }
 ],
 "metadata": {
  "kernelspec": {
   "display_name": "Python 3",
   "language": "python",
   "name": "python3"
  },
  "language_info": {
   "codemirror_mode": {
    "name": "ipython",
    "version": 3
   },
   "file_extension": ".py",
   "mimetype": "text/x-python",
   "name": "python",
   "nbconvert_exporter": "python",
   "pygments_lexer": "ipython3",
   "version": "3.7.3"
  }
 },
 "nbformat": 4,
 "nbformat_minor": 2
}
