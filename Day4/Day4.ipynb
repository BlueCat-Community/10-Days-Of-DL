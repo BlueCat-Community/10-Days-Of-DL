{
 "cells": [
  {
   "cell_type": "code",
   "execution_count": 3,
   "metadata": {},
   "outputs": [
    {
     "name": "stdout",
     "output_type": "stream",
     "text": [
      "2.0.0\n"
     ]
    }
   ],
   "source": [
    "import tensorflow as tf\n",
    "import numpy as np\n",
    "print(tf.__version__)"
   ]
  },
  {
   "cell_type": "code",
   "execution_count": 4,
   "metadata": {},
   "outputs": [],
   "source": [
    "#dataset\n",
    "X_train = [[73.,80.,75.],[93.,88.,93.],[89.,91.,90.],[96.,98.,100.],[73.,66.,70.]]\n",
    "y_train = [[152],[185],[180],[196],[142]]"
   ]
  },
  {
   "cell_type": "code",
   "execution_count": 5,
   "metadata": {},
   "outputs": [],
   "source": [
    "#make class\n",
    "class multi_linear(object):    \n",
    "    #initialization\n",
    "    def __init__(self, learning_rate=1e-5):\n",
    "        self.W = tf.Variable(tf.random.normal([3,1]),name='weight')\n",
    "        self.b = tf.Variable(tf.random.normal([1]),name='bias')\n",
    "        # make optimizer that use Gradient descent\n",
    "        self.optimizer = tf.keras.optimizers.SGD(lr=learning_rate)\n",
    "    \n",
    "    #compute cost and find best parameter   \n",
    "    def fit(self, X, y, epochs=20):\n",
    "        #epoch : count of learning in machine learning\n",
    "        cost = []\n",
    "        for i in range(epochs):\n",
    "            #make calculation method of cost and save result\n",
    "            #GradientTape : Record operation for automatic differentiation\n",
    "            with tf.GradientTape() as tape:\n",
    "                #matmul : support matrix multiplication\n",
    "                predict_y = tf.matmul(X,self.W)+self.b\n",
    "                sqr_errors = tf.square(y - predict_y)\n",
    "                mean_cost = tf.reduce_mean(sqr_errors)\n",
    "            #compute gradient\n",
    "            grads = tape.gradient(mean_cost, [self.W, self.b])\n",
    "            # find least cost using optimizer\n",
    "            self.optimizer.apply_gradients(zip(grads, [self.W, self.b]))\n",
    "            cost.append(mean_cost)\n",
    "        return cost\n",
    "    \n",
    "    #return predicted value\n",
    "    def predict(self, X):\n",
    "        return tf.matmul(X,self.W)+self.b"
   ]
  },
  {
   "cell_type": "code",
   "execution_count": 6,
   "metadata": {},
   "outputs": [
    {
     "data": {
      "image/png": "[encoded data removed]",
      "text/plain": [
       "<Figure size 432x288 with 1 Axes>"
      ]
     },
     "metadata": {
      "needs_background": "light"
     },
     "output_type": "display_data"
    },
    {
     "name": "stdout",
     "output_type": "stream",
     "text": [
      "target value :  [152]  predicted value :  tf.Tensor([149.16399], shape=(1,), dtype=float32)\n",
      "target value :  [185]  predicted value :  tf.Tensor([186.46892], shape=(1,), dtype=float32)\n",
      "target value :  [180]  predicted value :  tf.Tensor([180.01334], shape=(1,), dtype=float32)\n",
      "target value :  [196]  predicted value :  tf.Tensor([193.65388], shape=(1,), dtype=float32)\n",
      "target value :  [142]  predicted value :  tf.Tensor([146.44054], shape=(1,), dtype=float32)\n"
     ]
    }
   ],
   "source": [
    "#make model\n",
    "model = multi_linear()\n",
    "costs = model.fit(X_train, y_train)\n",
    "\n",
    "#make graph\n",
    "import matplotlib.pyplot as plt\n",
    "%matplotlib inline\n",
    "plt.plot(range(1,len(costs) + 1), costs)\n",
    "plt.xlabel('Epoch')\n",
    "plt.ylabel('Cost')\n",
    "plt.show()\n",
    "value_predict=model.predict(X_train)\n",
    "\n",
    "#compare real value and predicted value\n",
    "for i in range(5):\n",
    "    print(\"target value : \",y_train[i], \" predicted value : \",value_predict[i])"
   ]
  }
 ],
 "metadata": {
  "kernelspec": {
   "display_name": "Python 3",
   "language": "python",
   "name": "python3"
  },
  "language_info": {
   "codemirror_mode": {
    "name": "ipython",
    "version": 3
   },
   "file_extension": ".py",
   "mimetype": "text/x-python",
   "name": "python",
   "nbconvert_exporter": "python",
   "pygments_lexer": "ipython3",
   "version": "3.7.3"
  }
 },
 "nbformat": 4,
 "nbformat_minor": 2
}
