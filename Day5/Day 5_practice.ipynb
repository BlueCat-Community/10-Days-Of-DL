{
 "cells": [
  {
   "cell_type": "code",
   "execution_count": 1,
   "metadata": {},
   "outputs": [
    {
     "name": "stdout",
     "output_type": "stream",
     "text": [
      "Tensorflow version\n",
      "2.0.0\n"
     ]
    }
   ],
   "source": [
    "# MNIST dataset classification\n",
    "import numpy as np\n",
    "import tensorflow as tf\n",
    "from tensorflow.keras.datasets import mnist\n",
    "\n",
    "print(\"Tensorflow version\")\n",
    "print(tf.__version__)"
   ]
  },
  {
   "cell_type": "code",
   "execution_count": 2,
   "metadata": {},
   "outputs": [],
   "source": [
    "# The number of classes(0~9), features of dataset(28*28)\n",
    "num_classes = 10\n",
    "num_features = 784\n",
    "\n",
    "# learning parameters\n",
    "learning_rate = 0.01\n",
    "training_steps = 1000\n",
    "batch_size = 256\n",
    "display_step = 50"
   ]
  },
  {
   "cell_type": "code",
   "execution_count": 3,
   "metadata": {},
   "outputs": [],
   "source": [
    "# load data\n",
    "(X_train, y_train), (X_test, y_test) = mnist.load_data()\n",
    "\n",
    "# Convert data type to flaot32\n",
    "X_train, X_test = np.array(X_train, np.float32), np.array(X_test, np.float32)\n",
    "# Mnist image format data converted to a one-dimensional array\n",
    "X_train, X_test = X_train.reshape([-1, num_features]), X_test.reshape([-1, num_features])\n",
    "# data standardization\n",
    "X_train, X_test = X_train/255., X_test/255."
   ]
  },
  {
   "cell_type": "code",
   "execution_count": 4,
   "metadata": {},
   "outputs": [],
   "source": [
    "'''\n",
    "tf.data.Dataset.from_tensor_slices()\n",
    ": Creates a Dataset whose elements are slices of the given tensors.\n",
    "\n",
    "tf.data.Dataset.repeat()\n",
    ": Repeats this dataset count times.\n",
    "\n",
    "tf.data.Dataset.batch()\n",
    ": Combines consecutive elements of this dataset into batches.\n",
    "\n",
    "tf.data.Dataset.shuffle()\n",
    ": Randomly shuffles the elements of this dataset.\n",
    "\n",
    "tf.data.Dataset.prefetch()\n",
    ": Creates a Dataset that prefetches elements from this dataset.\n",
    "'''\n",
    "train_set = tf.data.Dataset.from_tensor_slices( (X_train, y_train) )\n",
    "train_set = train_set.repeat().shuffle(5000).batch(batch_size).prefetch(1)\n",
    "\n",
    "# define 'Weight' and 'Bias'\n",
    "W = tf.Variable(tf.ones([num_features, num_classes]), name=\"weight\")\n",
    "b = tf.Variable(tf.zeros([num_classes]), name=\"bias\")\n",
    "\n",
    "def Logistic_Regression(X):\n",
    "    # Hypothesis formula\n",
    "    H = tf.matmul(X, W) + b\n",
    "    \n",
    "    # Logistic regression\n",
    "    '''\n",
    "   You can put the linear revision formula into \n",
    "   the softmax function to express the logistic regression.\n",
    "    '''\n",
    "    return tf.nn.softmax(H)\n",
    "\n",
    "'''\n",
    "tf.one_hot()\n",
    ": Returns a one-hot tensor.\n",
    "\n",
    "tf.clip_by_value()\n",
    ": Clips tensor values to a specified min and max.\n",
    "\n",
    "tf.reduce_mean()\n",
    ": Computes the mean of elements across dimensions of a tensor.\n",
    "\n",
    "'''\n",
    "def Cross_Entropy(y_pred, y):\n",
    "    # One hot encoding (categorical data to numerical data)\n",
    "    y = tf.one_hot(y, depth=num_classes)\n",
    "    \n",
    "    y_pred = tf.clip_by_value(y_pred, 1e-9, 1.)\n",
    "    return tf.reduce_mean(-tf.reduce_sum(y * tf.math.log(y_pred)))\n",
    "\n",
    "def Accuracy(y_pred, y):\n",
    "    correct_prediction = tf.equal(tf.argmax(y_pred, 1), tf.cast(y, tf.int64))\n",
    "    return tf.reduce_mean(tf.cast(correct_prediction, tf.float32))"
   ]
  },
  {
   "cell_type": "code",
   "execution_count": 5,
   "metadata": {},
   "outputs": [],
   "source": [
    "# Stochastic Gradient Descent (SGD)\n",
    "optimizer = tf.optimizers.SGD(learning_rate)"
   ]
  },
  {
   "cell_type": "code",
   "execution_count": 6,
   "metadata": {},
   "outputs": [
    {
     "name": "stdout",
     "output_type": "stream",
     "text": [
      "Step: 50, Loss: 870.2191162109375, Accuracy: 0.73828125\n",
      "Step: 100, Loss: 735.08447265625, Accuracy: 0.734375\n",
      "Step: 150, Loss: 645.6023559570312, Accuracy: 0.7890625\n",
      "Step: 200, Loss: 145.3100128173828, Accuracy: 0.87109375\n",
      "Step: 250, Loss: 167.10523986816406, Accuracy: 0.87890625\n",
      "Step: 300, Loss: 70.58843994140625, Accuracy: 0.92578125\n",
      "Step: 350, Loss: 62.202735900878906, Accuracy: 0.90234375\n",
      "Step: 400, Loss: 121.92505645751953, Accuracy: 0.86328125\n",
      "Step: 450, Loss: 81.36837768554688, Accuracy: 0.9140625\n",
      "Step: 500, Loss: 101.54405212402344, Accuracy: 0.8828125\n",
      "Step: 550, Loss: 175.48892211914062, Accuracy: 0.86328125\n",
      "Step: 600, Loss: 86.57205200195312, Accuracy: 0.8984375\n",
      "Step: 650, Loss: 91.54438018798828, Accuracy: 0.90625\n",
      "Step: 700, Loss: 58.47608184814453, Accuracy: 0.95703125\n",
      "Step: 750, Loss: 61.330352783203125, Accuracy: 0.9296875\n",
      "Step: 800, Loss: 98.24676513671875, Accuracy: 0.92578125\n",
      "Step: 850, Loss: 66.7767105102539, Accuracy: 0.91015625\n",
      "Step: 900, Loss: 77.82478332519531, Accuracy: 0.90234375\n",
      "Step: 950, Loss: 68.56063842773438, Accuracy: 0.9296875\n",
      "Step: 1000, Loss: 35.3516960144043, Accuracy: 0.96484375\n"
     ]
    }
   ],
   "source": [
    "'''\n",
    "tf.GradientTape()\n",
    ": Record operations for automatic differentiation.\n",
    "\n",
    "tf.GradientTape().gradient\n",
    ": Computes the gradient using operations recorded in context of this tape.\n",
    "'''\n",
    "def optimization(X, y):\n",
    "    with tf.GradientTape() as tape:\n",
    "        pred = Logistic_Regression(X)\n",
    "        loss = Cross_Entropy(pred, y)\n",
    "\n",
    "        # get gradient\n",
    "        gradients = tape.gradient(loss, [W, b])\n",
    "\n",
    "        optimizer.apply_gradients(zip(gradients, [W, b]))\n",
    "\n",
    "for step, (batch_X, batch_y) in enumerate(train_set.take(training_steps), 1):\n",
    "    # Optimization progress with weight and bias updates.\n",
    "    optimization(batch_X, batch_y)\n",
    "    \n",
    "    # Output parameter value whenever step is a multiple of 50.\n",
    "    if step % display_step == 0:\n",
    "        pred = Logistic_Regression(batch_X)\n",
    "        loss = Cross_Entropy(pred, batch_y)\n",
    "        acc = Accuracy(pred, batch_y)\n",
    "        print('Step: {}, Loss: {}, Accuracy: {}' .format(step, loss, acc))\n",
    "           "
   ]
  },
  {
   "cell_type": "code",
   "execution_count": 7,
   "metadata": {},
   "outputs": [
    {
     "name": "stdout",
     "output_type": "stream",
     "text": [
      "Test Accuracy: 0.9115999937057495\n"
     ]
    }
   ],
   "source": [
    "# Measurement of the accuracy of a trained model.\n",
    "pred = Logistic_Regression(X_test)\n",
    "print('Test Accuracy: {}' .format(Accuracy(pred, y_test)))"
   ]
  },
  {
   "cell_type": "code",
   "execution_count": 8,
   "metadata": {},
   "outputs": [],
   "source": [
    "# ref: https://bioinformaticsandme.tistory.com/156"
   ]
  }
 ],
 "metadata": {
  "kernelspec": {
   "display_name": "Python 3",
   "language": "python",
   "name": "python3"
  },
  "language_info": {
   "codemirror_mode": {
    "name": "ipython",
    "version": 3
   },
   "file_extension": ".py",
   "mimetype": "text/x-python",
   "name": "python",
   "nbconvert_exporter": "python",
   "pygments_lexer": "ipython3",
   "version": "3.7.3"
  }
 },
 "nbformat": 4,
 "nbformat_minor": 2
}
