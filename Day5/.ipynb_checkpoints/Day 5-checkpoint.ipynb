{
 "cells": [
  {
   "cell_type": "code",
   "execution_count": 1,
   "metadata": {},
   "outputs": [],
   "source": [
    "import tensorflow as tf\n",
    "import numpy as np\n",
    "import math\n",
    "\n",
    "# Original data\n",
    "x_data=[[1.,2.],[2.,3.],[3.,1.],[4.,3.],[5.,3.],[6.,2.]]\n",
    "y_data=[[0],[0],[0],[1],[1],[1]]"
   ]
  },
  {
   "cell_type": "code",
   "execution_count": 2,
   "metadata": {},
   "outputs": [],
   "source": [
    "# Logistic regression model class\n",
    "class logistic(object):\n",
    "    def __init__(self, learning_rate=0.01):\n",
    "        # Weight variable\n",
    "        self.W = tf.Variable(tf.random.normal([2,1]),name='weight')\n",
    "        # Bias variable\n",
    "        self.b = tf.Variable(tf.random.normal([1]),name='bias')\n",
    "        # make optimizer that use Gradient descent\n",
    "        self.optimizer = tf.keras.optimizers.SGD(lr=learning_rate)\n",
    "        \n",
    "    def fit(self, X, y, epochs=10000):\n",
    "        # Epoch : count of learning in machine learning\n",
    "        cost = []\n",
    "        # k is for computing (1-y), (1-predict_y).\n",
    "        # Integer - list is impossible in python\n",
    "        k=np.array([[1],[1],[1],[1],[1],[1]])\n",
    "        for i in range(epochs):\n",
    "            # Make calculation method of cost\n",
    "            # Conducts automatic differentiation\n",
    "            with tf.GradientTape() as tape:\n",
    "                predict_y = tf.sigmoid(tf.matmul(X,self.W)+self.b)\n",
    "                temp = y*tf.math.log(predict_y)+(k-y)*tf.math.log(k-predict_y)                    \n",
    "                mean_cost = -tf.reduce_mean(temp)\n",
    "            # Compute gradient\n",
    "            grads = tape.gradient(mean_cost, [self.W, self.b])\n",
    "            # Find least cost using optimizer\n",
    "            self.optimizer.apply_gradients(zip(grads, [self.W, self.b]))\n",
    "            cost.append(mean_cost)\n",
    "        return cost\n",
    "\n",
    "    # Function for predicting using current model\n",
    "    def predict(self, X,Y):\n",
    "        predict_y = tf.sigmoid(tf.matmul(X,self.W)+self.b)\n",
    "        # If predict_y is larger than 0.5, return 1\n",
    "        # Else reutrn 0\n",
    "        predicted = tf.cast(predict_y > 0.5, dtype=tf.float32)\n",
    "        accuracy = tf.reduce_mean(tf.cast(tf.equal(predicted, Y), dtype=tf.float32))\n",
    "        return accuracy"
   ]
  },
  {
   "cell_type": "code",
   "execution_count": 3,
   "metadata": {},
   "outputs": [],
   "source": [
    "model = logistic()  # Make a logistic model\n",
    "costs = model.fit(x_data, y_data)  # Fit the model and calcuate cost"
   ]
  },
  {
   "cell_type": "code",
   "execution_count": 5,
   "metadata": {},
   "outputs": [
    {
     "data": {
      "image/png": "[encoded data removed]",
      "text/plain": [
       "<Figure size 432x288 with 1 Axes>"
      ]
     },
     "metadata": {
      "needs_background": "light"
     },
     "output_type": "display_data"
    },
    {
     "name": "stdout",
     "output_type": "stream",
     "text": [
      "tf.Tensor(1.0, shape=(), dtype=float32)\n"
     ]
    }
   ],
   "source": [
    "# Set draw graph\n",
    "import matplotlib.pyplot as plt\n",
    "plt.plot(range(1, len(costs) + 1), costs)\n",
    "plt.tight_layout()\n",
    "plt.xlabel('Epoch')\n",
    "plt.ylabel('Cost')\n",
    "plt.show()\n",
    "\n",
    "# Confirm accuracy of model\n",
    "accuracy_predict=model.predict(x_data,y_data)\n",
    "print(accuracy_predict)"
   ]
  }
 ],
 "metadata": {
  "kernelspec": {
   "display_name": "Python 3",
   "language": "python",
   "name": "python3"
  },
  "language_info": {
   "codemirror_mode": {
    "name": "ipython",
    "version": 3
   },
   "file_extension": ".py",
   "mimetype": "text/x-python",
   "name": "python",
   "nbconvert_exporter": "python",
   "pygments_lexer": "ipython3",
   "version": "3.7.3"
  }
 },
 "nbformat": 4,
 "nbformat_minor": 2
}
